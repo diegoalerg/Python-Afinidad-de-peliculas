{
 "cells": [
  {
   "cell_type": "code",
   "execution_count": 7,
   "metadata": {},
   "outputs": [
    {
     "name": "stdout",
     "output_type": "stream",
     "text": [
      "El vector mas parecido a Diego es  Alina con un valor de 0.9543135154205277\n",
      "El vector mas parecido a Alina es  Diego con un valor de 0.9543135154205277\n",
      "El vector mas parecido a Aliya es  Maria con un valor de 0.9492622930986466\n",
      "El vector mas parecido a Maria es  Quim con un valor de 0.95303483570713\n",
      "El vector mas parecido a Quim es  Maria con un valor de 0.95303483570713\n"
     ]
    }
   ],
   "source": [
    "from scipy import spatial\n",
    "\n",
    "pelis = ['Interstellar', 'Toy Story', 'Captain Marvel', 'El Gran Hackeo', 'Star Wars', 'El Padrino', 'Gone with the wind', 'Mars', 'Titanic', 'Oceans Eleven']\n",
    "\n",
    "vector_diego = [3, 3, 2, 4, 2, 3, 4,  2, 3, 4]\n",
    "\n",
    "vector_alina = [4, 4, 4, 4, 1, 4, 4, 3, 2, 3]\n",
    "\n",
    "vector_aliya = [3, 2, 4, 3, 3, 3, 3, 2, 3, 2]\n",
    "\n",
    "vector_maria = [2, 3, 3, 4, 4, 2, 4, 2, 2, 3]\n",
    "\n",
    "vector_quim = [2, 3, 4, 4, 3, 3, 3, 4, 1, 3]\n",
    "\n",
    "lista_vectores = [vector_diego, vector_alina, vector_aliya, vector_maria, vector_quim]\n",
    "\n",
    "features = ['Diego', 'Alina', 'Aliya', 'Maria', 'Quim']\n",
    "\n",
    "for i in range(len(lista_vectores)):\n",
    "    similitud = 0.0\n",
    "    similar = features[i]\n",
    "    for j in range(len(lista_vectores)):\n",
    "        if i != j:\n",
    "            distance = 1 - spatial.distance.cosine(lista_vectores[i], lista_vectores[j])\n",
    "            if distance > similitud:\n",
    "                similitud = distance\n",
    "                similar = features[j]\n",
    "    print('El vector mas parecido a', features[i], \"es \", similar, \"con un valor de\", similitud)\n",
    "\n"
   ]
  },
  {
   "cell_type": "code",
   "execution_count": null,
   "metadata": {},
   "outputs": [],
   "source": []
  }
 ],
 "metadata": {
  "kernelspec": {
   "display_name": "Python 3",
   "language": "python",
   "name": "python3"
  },
  "language_info": {
   "codemirror_mode": {
    "name": "ipython",
    "version": 3
   },
   "file_extension": ".py",
   "mimetype": "text/x-python",
   "name": "python",
   "nbconvert_exporter": "python",
   "pygments_lexer": "ipython3",
   "version": "3.7.4"
  }
 },
 "nbformat": 4,
 "nbformat_minor": 2
}
